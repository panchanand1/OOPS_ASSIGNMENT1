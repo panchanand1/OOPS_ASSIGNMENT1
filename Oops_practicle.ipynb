{
  "nbformat": 4,
  "nbformat_minor": 0,
  "metadata": {
    "colab": {
      "provenance": []
    },
    "kernelspec": {
      "name": "python3",
      "display_name": "Python 3"
    },
    "language_info": {
      "name": "python"
    }
  },
  "cells": [
    {
      "cell_type": "markdown",
      "source": [
        "1. What is Object-Oriented Programming (OOP)?\n",
        "\n",
        "---\n",
        "\n",
        "\n",
        "\n",
        "Ans: Object-Oriented Programming (OOP) is a programming paradigm based on the concept of \"objects\", which contain data and code to manipulate that data. OOP aims to model real-world entities and their interactions within a program, making code more modular, reusable, and maintainable.\n",
        "\n",
        "Key Concepts of OOP:\n",
        "\n",
        "Class – A blueprint for creating objects.\n",
        "\n",
        "Object – An instance of a class.\n",
        "\n",
        "Encapsulation – Hiding internal state and requiring all interaction through methods.\n",
        "\n",
        "Abstraction – Hiding unnecessary details and showing only relevant features.\n",
        "\n",
        "Inheritance – A way to form new classes using classes that have already been defined.\n",
        "\n",
        "Polymorphism – The ability to use a unified interface for different data types.\n"
      ],
      "metadata": {
        "id": "YN3-w17TnOtz"
      }
    },
    {
      "cell_type": "markdown",
      "source": [
        "2. What is a class in OOP?\n",
        "\n",
        "---\n",
        "\n",
        "\n",
        "\n",
        "Ans: A class in Object-Oriented Programming (OOP) is a blueprint or template for creating objects.\n",
        "It defines:\n",
        "Attributes (also called variables or properties)\n",
        "\n",
        "\n",
        "Methods (functions that define behavior)\n"
      ],
      "metadata": {
        "id": "-tL-yjj3ne5g"
      }
    },
    {
      "cell_type": "markdown",
      "source": [
        "3. What is an object in OOP?\n",
        "\n",
        "---\n",
        "\n",
        "\n",
        "\n",
        "Ans: An object is an instance of a class. It represents a specific entity that possesses both data attributes and behavior methods as defined by its class.\n"
      ],
      "metadata": {
        "id": "6-NAGTbKn72-"
      }
    },
    {
      "cell_type": "markdown",
      "source": [
        "4. What is the difference between abstraction and encapsulation?\n",
        "\n",
        "\n",
        "---\n",
        "\n",
        "\n",
        "Ans:  Abstraction  is the process of hiding complex implementation details and showing only the essential features to the user. It simplifies the interface and allows the user to interact with the system without knowing the internal workings. In Python, abstraction is achieved using abstract classes and interfaces.\n",
        "\n",
        "\n",
        "Encapsulation is the technique of wrapping data (attributes) and methods (functions) together into a single unit (class) and restricting direct access to some components. It protects the internal state of an object and ensures controlled access through getters and setters. In Python, this is done using private (_) and protected (_) access modifiers.\n"
      ],
      "metadata": {
        "id": "8LU53dYgoBbM"
      }
    },
    {
      "cell_type": "markdown",
      "source": [
        "5. What are dunder methods in Python?\n",
        "\n",
        "---\n",
        "\n",
        "\n",
        "\n",
        "Ans: In Python, dunder methods (short for double underscore methods) are special predefined methods that begin and end with double underscores, such as __init__, __str__, and __len__. They are also known as magic methods.\n",
        "\n",
        "These methods allow us to define how objects of a class should behave when used with built-in Python functions or operators. For example, __init__ initializes an object, __str__ defines how it is printed, and __add__ defines behavior for the + operator.\n"
      ],
      "metadata": {
        "id": "hN3BL8aZocFY"
      }
    },
    {
      "cell_type": "markdown",
      "source": [
        "6. Explain the concept of inheritance in OOP?\n",
        "\n",
        "Ans: Inheritance is one of the core principles of Object-Oriented Programming (OOP). It allows a class (called the child class or subclass) to acquire the properties and behaviors (attributes and methods) of another class (called the parent class or superclass).\n",
        "The main purpose of inheritance is code reusability , it allows you to reuse existing code and extend or modify its behavior without rewriting it.\n"
      ],
      "metadata": {
        "id": "9uMblpUbokhA"
      }
    },
    {
      "cell_type": "markdown",
      "source": [
        "7. What is polymorphism in OOP?\n",
        "\n",
        "---\n",
        "\n",
        "\n",
        "\n",
        "Ans: Polymorphism is a key concept in Object-Oriented Programming (OOP) that means \"many forms.\"\n",
        "It allows objects of different classes to be treated as objects of a common superclass and enables the same method or operation to behave differently based on the object calling it.\n"
      ],
      "metadata": {
        "id": "YE-0eWDEotn2"
      }
    },
    {
      "cell_type": "markdown",
      "source": [
        "8. How is encapsulation achieved in Python?\n",
        "\n",
        "---\n",
        "\n",
        "\n",
        "\n",
        "Ans: Encapsulation in Python is the process of binding data (attributes) and the methods that operate on that data into a single unit (class), and restricting direct access to some of the object’s internal components. This helps protect the internal state of an object and allows for controlled access and modification.\n",
        "Encapsulation is implemented using access modifiers:\n",
        "\n",
        "Public – Accessible from anywhere (self.name)\n",
        "\n",
        "\n",
        "Protected – Prefixed with one underscore (_name), intended for internal use.\n",
        "\n",
        "\n",
        "Private – Prefixed with two underscores (__name), not accessible directly from outside the class.\n"
      ],
      "metadata": {
        "id": "8dU4ZaVZoz78"
      }
    },
    {
      "cell_type": "markdown",
      "source": [
        "9. What is a constructor in Python?\n",
        "\n",
        "---\n",
        "\n",
        "\n",
        "\n",
        "Ans: In Python, a constructor is a special method used to initialize an object when it is created from a class. The constructor method in Python is called __init__().\n",
        "\n",
        "It is automatically called when an object of the class is instantiated, and it is commonly used to assign values to object attributes.\n"
      ],
      "metadata": {
        "id": "ux1bVlBCo7ta"
      }
    },
    {
      "cell_type": "markdown",
      "source": [
        "10. What are class and static methods in Python?\n",
        "\n",
        "---\n",
        "\n",
        "\n",
        "\n",
        "Ans: In Python, class methods and static methods are special methods that belong to a class rather than an instance of the class. They are defined using decorators and are used when the method’s behavior is related to the class, not any particular object.\n",
        "\n",
        "**Class Method:**\n",
        "Declared using the @classmethod decorator.\n",
        "\n",
        "Takes cls as the first parameter, which refers to the class itself.\n",
        "\n",
        "Can access or modify class-level attributes.\n",
        "\n",
        "**Static Method:**\n",
        "Declared using the @staticmethod decorator.\n",
        "\n",
        "Does not take self or cls as the first parameter.\n",
        "\n",
        "Cannot access or modify class or instance variables.\n",
        "\n",
        "Used to perform utility functions related to the class.\n"
      ],
      "metadata": {
        "id": "FDPyujsSpC9s"
      }
    },
    {
      "cell_type": "markdown",
      "source": [
        "11. What is method overloading in Python?\n",
        "\n",
        "---\n",
        "\n",
        "\n",
        "\n",
        "Ans: Method overloading is a concept in object-oriented programming where multiple methods can have the same name but different numbers or types of parameters.\n",
        "\n",
        "In Python, traditional method overloading is not directly supported. If multiple methods with the same name are defined, only the last one is retained.\n",
        "\n",
        "However, method overloading can be simulated using techniques such as default arguments. This allows a single method to behave differently depending on the inputs it receives.\n",
        "\n",
        "\n",
        "\n",
        "\n"
      ],
      "metadata": {
        "id": "S7g_YvI6pheC"
      }
    },
    {
      "cell_type": "markdown",
      "source": [
        "12. What is Method Overriding in OOP?\n",
        "\n",
        "---\n",
        "\n",
        "\n",
        "\n",
        "Ans: Method overriding is an object-oriented programming feature that allows a subclass to provide a specific implementation of a method that is already defined in its superclass.\n",
        "\n",
        "The method in the child class must have the same name, return type, and parameters as the method in the parent class. When the method is called on an instance of the subclass, the subclass’s version is executed, overriding the parent class’s version.\n",
        "\n",
        "This is commonly used to implement runtime polymorphism and to customize or extend the behavior of inherited methods."
      ],
      "metadata": {
        "id": "Q5sx5Vtyp-78"
      }
    },
    {
      "cell_type": "markdown",
      "source": [
        "13. What is a Property Decorator in Python?\n",
        "\n",
        "---\n",
        "\n",
        "\n",
        "\n",
        "Ans: In Python, a property decorator (@property) is used to convert a method into a read-only property. It allows a class method to be accessed like an attribute, without calling it explicitly.\n",
        "\n",
        "This helps in encapsulation, allowing controlled access to private attributes. You can also define setter and deleter methods using @<property>.setter and @<property>.deleter decorators.\n",
        "\n",
        "\n",
        "\n",
        "\n",
        "The property decorator is useful when you want to add logic around getting or setting a value, while still using attribute-style access.\n"
      ],
      "metadata": {
        "id": "QRQJRIT2qJPF"
      }
    },
    {
      "cell_type": "markdown",
      "source": [
        "14. Why is Polymorphism Important in OOP?\n",
        "\n",
        "---\n",
        "\n",
        "\n",
        "\n",
        "Ans: Polymorphism is important in object-oriented programming because it allows objects of different classes to be treated as objects of a common superclass. It enables a single interface to represent different underlying forms (data types or behaviors).\n",
        "\n",
        "This promotes code reusability, flexibility, and scalability, as the same method or function can operate on objects of different classes without needing to know their exact type. It also helps in implementing dynamic behavior and supports method overriding, which allows customized behavior in subclasses.\n"
      ],
      "metadata": {
        "id": "oAd6ILevqUKC"
      }
    },
    {
      "cell_type": "markdown",
      "source": [
        "15. What is an Abstract Class in Python?\n",
        "\n",
        "---\n",
        "\n",
        "\n",
        "\n",
        "Ans: An abstract class in Python is a class that cannot be instantiated directly and is meant to be a base class for other classes. It can define abstract methods, which are methods declared but not implemented in the abstract class. Subclasses are required to provide implementations for these methods.\n",
        "\n",
        "Abstract classes are defined using the abc module with the ABC class and the @abstractmethod decorator.\n",
        "\n",
        "They are used to define a common interface for a group of related classes and to enforce method implementation in derived classes.\n"
      ],
      "metadata": {
        "id": "wAWgndXCqZ5x"
      }
    },
    {
      "cell_type": "markdown",
      "source": [
        "16. What are the advantages of OOP?\n",
        "\n",
        "---\n",
        "\n",
        "\n",
        "\n",
        "Ans: OOP offers several key advantages:\n",
        "\n",
        "**Modularity**: Code is organized into classes, making it easier to manage and understand.\n",
        "\n",
        "\n",
        "**Reusability**: Classes and methods can be reused across programs through inheritance.\n",
        "\n",
        "\n",
        "**Encapsulation**: Data and methods are bundled together, providing better control and security.\n",
        "\n",
        "\n",
        "**Abstraction**: Hides complex implementation details and exposes only essential features.\n",
        "\n",
        "\n",
        "**Polymorphism:** Allows methods to perform different tasks based on the object calling them.\n",
        "\n",
        "\n",
        "**Maintainability**: Easier to update and maintain code due to a clear structure and separation of concerns.\n",
        "\n",
        "\n",
        "**Scalability**: Code can be extended and scaled more easily with minimal changes.\n"
      ],
      "metadata": {
        "id": "EgvMNpcxqilT"
      }
    },
    {
      "cell_type": "markdown",
      "source": [
        "17. What is the Difference Between a Class Variable and an Instance Variable?\n",
        "\n",
        "---\n",
        "\n",
        "\n",
        "\n",
        "**Class Variable:**\n",
        " A class variable is shared among all instances of a class. It is defined inside the class but outside any instance methods. Any changes to a class variable affect all instances of the class.\n",
        "\n",
        "\n",
        "**Instance Variable:**\n",
        " An instance variable is unique to each object. It is defined inside the constructor (__init__) or other instance methods using self. Changes to an instance variable only affect that particular object.\n"
      ],
      "metadata": {
        "id": "6At7do0arIxw"
      }
    },
    {
      "cell_type": "markdown",
      "source": [
        "18. What is Multiple Inheritance in Python?\n",
        "\n",
        "---\n",
        "\n",
        "\n",
        "\n",
        "Ans: Multiple inheritance is a feature in Python where a class can inherit from more than one parent class. This allows the subclass to access attributes and methods from all its parent classes.\n",
        "\n",
        "Python supports multiple inheritance directly, and it follows a method resolution order to determine which method to execute when there is a conflict or overlap in method names.\n",
        "\n",
        "It enables greater flexibility and code reuse but should be used carefully to avoid complexity and ambiguity.\n"
      ],
      "metadata": {
        "id": "fCEkQHDwrle-"
      }
    },
    {
      "cell_type": "markdown",
      "source": [
        "19. Explain the purpose of ‘’__str__’ and ‘__repr__’ ‘ methods in Python?\n",
        "\n",
        "---\n",
        "\n",
        "\n",
        "\n",
        "Ans: In Python, the __str__ and __repr__ methods are special (dunder) methods used to define how objects are represented as strings.\n",
        "\n",
        "__str__: Returns a user-friendly string representation of the object. It is called by the print() function or when using str() on the object. It is intended for display to the end user.\n",
        "\n",
        "\n",
        "__repr__: Returns a developer-oriented string representation of the object. It is called by the repr() function and is meant to provide an unambiguous representation of the object.\n"
      ],
      "metadata": {
        "id": "6_jibN0-rs5z"
      }
    },
    {
      "cell_type": "markdown",
      "source": [
        "20. What is the significance of the ‘super()’ function in Python?\n",
        "\n",
        "---\n",
        "\n",
        "\n",
        "\n",
        "Ans: The super() function in Python is used to call a method from the parent class inside a subclass. It allows a subclass to access the behavior of its superclass without directly naming it.\n",
        "\n",
        "This is especially helpful in inheritance, where it promotes code reuse and simplifies maintenance, particularly when working with multiple inheritance.\n",
        "\n",
        "super() also ensures that the correct method resolution order is followed, making the code more flexible and less error-prone.\n"
      ],
      "metadata": {
        "id": "kz5eP8Lsr4Mh"
      }
    },
    {
      "cell_type": "markdown",
      "source": [
        "21. What is the significance of the __del__ method in Python?\n",
        "\n",
        "---\n",
        "\n",
        "\n",
        "\n",
        "Ans: The __del__ method in Python is a special method known as a destructor. It is automatically called when an object is about to be destroyed or garbage collected.\n",
        "\n",
        "Its main purpose is to allow for cleanup actions, such as closing files, releasing network connections, or freeing up system resources used by the object.\n",
        "\n",
        "However, it's generally recommended to use it with caution, as the exact time when __del__ is called is not always predictable, especially in programs with complex object references.\n"
      ],
      "metadata": {
        "id": "gelenJy1sES4"
      }
    },
    {
      "cell_type": "markdown",
      "source": [
        "22. What is the difference between @staticmethod and @classmethod in Python?\n",
        "\n",
        "---\n",
        "\n",
        "\n",
        "\n",
        "Ans: **@staticmethod:**\n",
        " A static method does not receive any implicit first argument like self or cls. It behaves like a regular function but is included inside the class for logical grouping. It cannot access or modify class or instance attributes.\n",
        "\n",
        "\n",
        "**@classmethod:**\n",
        "  A class method receives the class itself as the first argument (usually named cls). It can access and modify class-level data and is often used for creating factory methods or working with class variables.\n",
        "\n",
        "\n",
        "Both are used to define methods that are not tied to a particular instance but serve different purposes based on their access to class or instance data.\n"
      ],
      "metadata": {
        "id": "1Nn3ShMpsNy7"
      }
    },
    {
      "cell_type": "markdown",
      "source": [
        "23. How does polymorphism work in Python with inheritance?\n",
        "\n",
        "---\n",
        "\n",
        "\n",
        "\n",
        "Ans: In Python, polymorphism allows objects of different classes to be treated using a common interface, especially when they share a parent class through inheritance.\n",
        "\n",
        "With inheritance, a subclass can override or extend methods from the superclass. When a method is called on an object, Python automatically determines the appropriate method to execute based on the object's actual class, not just its parent class.\n",
        "\n",
        "\n",
        "\n",
        "This means the same method name can perform different behaviors depending on the class of the object, enabling flexible and reusable code.\n"
      ],
      "metadata": {
        "id": "8gzhSbSYsekG"
      }
    },
    {
      "cell_type": "markdown",
      "source": [
        "24. What is method chaining in Python OOP?\n",
        "\n",
        "---\n",
        "\n",
        "\n",
        "\n",
        "Ans: Method chaining in Python Object-Oriented Programming (OOP) is a technique where multiple methods are called on the same object in a single line, one after another.\n",
        "\n",
        "This is possible when each method returns the object itself (self), allowing the next method to be called directly. It helps write cleaner, more readable, and fluent code by reducing the need for repetitive object references.\n",
        "\n",
        "Method chaining is commonly used in classes that modify or build up internal state through a sequence of method calls.\n"
      ],
      "metadata": {
        "id": "dGw9A-RcsnVk"
      }
    },
    {
      "cell_type": "markdown",
      "source": [
        "25. What is the purpose of the __call__ method in Python?\n",
        "\n",
        "---\n",
        "\n",
        "\n",
        "\n",
        "Ans: The __call__ method in Python is a special method that allows an instance of a class to be called like a regular function.\n",
        "\n",
        "When the __call__ method is defined in a class, you can use parentheses () after an object of that class to execute the logic inside __call__. This makes the object callable, just like functions.\n",
        "\n",
        "It is useful when you want objects to behave like functions, often used in cases like function objects, decorators, or custom handlers.\n"
      ],
      "metadata": {
        "id": "k711iNZIwTSo"
      }
    },
    {
      "cell_type": "code",
      "execution_count": null,
      "metadata": {
        "colab": {
          "base_uri": "https://localhost:8080/"
        },
        "id": "0lhE-O345GgE",
        "outputId": "891fc55c-fc55-480e-9e86-251b2145d786"
      },
      "outputs": [
        {
          "output_type": "stream",
          "name": "stdout",
          "text": [
            "The animal speaks.\n",
            "The dog barks.\n"
          ]
        }
      ],
      "source": [
        "#  1. Create a parent class Animal with a method speak() that prints a generic message. Create a child class Dog\n",
        "# that overrides the speak() method to print \"Bark!\".\n",
        "\n",
        "class Animal:\n",
        "    def speak(self):\n",
        "        print(\"The animal speaks.\")\n",
        "\n",
        "\n",
        "class Dog(Animal):\n",
        "    def speak(self):\n",
        "        print(\"The dog barks.\")\n",
        "\n",
        "animal = Animal()\n",
        "animal.speak()\n",
        "\n",
        "dog = Dog()\n",
        "dog.speak()\n"
      ]
    },
    {
      "cell_type": "code",
      "source": [
        "# 2. Write a program to create an abstract class Shape with a method area(). Derive classes Circle and Rectangle\n",
        "# from it and implement the area() method in both.\n",
        "\n",
        "from abc import ABC, abstractmethod\n",
        "import math\n",
        "\n",
        "class Shape(ABC):\n",
        "    @abstractmethod\n",
        "    def area(self):\n",
        "        pass\n",
        "\n",
        "class Circle(Shape):\n",
        "    def __init__(self, radius):\n",
        "        self.radius = radius\n",
        "\n",
        "    def area(self):\n",
        "        return math.pi * self.radius * self.radius\n",
        "\n",
        "class Rectangle(Shape):\n",
        "    def __init__(self, width, height):\n",
        "        self.width = width\n",
        "        self.height = height\n",
        "\n",
        "    def area(self):\n",
        "        return self.width * self.height\n",
        "\n",
        "circle = Circle(5)\n",
        "rectangle = Rectangle(4, 6)\n",
        "\n",
        "print(\"Circle area:\", circle.area())\n",
        "print(\"Rectangle area:\", rectangle.area())\n"
      ],
      "metadata": {
        "colab": {
          "base_uri": "https://localhost:8080/"
        },
        "id": "EDkFYQx-5YB9",
        "outputId": "b769e864-b18e-45d0-e133-9b1a7dfda6bd"
      },
      "execution_count": null,
      "outputs": [
        {
          "output_type": "stream",
          "name": "stdout",
          "text": [
            "Circle area: 78.53981633974483\n",
            "Rectangle area: 24\n"
          ]
        }
      ]
    },
    {
      "cell_type": "code",
      "source": [
        "# 3. Implement a multi-level inheritance scenario where a class Vehicle has an attribute type. Derive a class Car\n",
        "# and further derive a class ElectricCar that adds a battery attribute.\n",
        "\n",
        "class Vehicle:\n",
        "    def __init__(self, vehicle_type):\n",
        "        self.vehicle_type = vehicle_type\n",
        "\n",
        "    def display_type(self):\n",
        "        print(\"Vehicle Type:\", self.vehicle_type)\n",
        "\n",
        "class Car(Vehicle):\n",
        "    def __init__(self, vehicle_type, brand):\n",
        "        super().__init__(vehicle_type)\n",
        "        self.brand = brand\n",
        "\n",
        "    def display_brand(self):\n",
        "        print(\"Car Brand:\", self.brand)\n",
        "\n",
        "class ElectricCar(Car):\n",
        "    def __init__(self, vehicle_type, brand, battery_capacity):\n",
        "        super().__init__(vehicle_type, brand)\n",
        "        self.battery_capacity = battery_capacity\n",
        "\n",
        "    def display_battery(self):\n",
        "        print(\"Battery Capacity:\", self.battery_capacity, \"kWh\")\n",
        "\n",
        "e_car = ElectricCar(\"Four Wheeler\", \"Tesla\", 75)\n",
        "e_car.display_type()\n",
        "e_car.display_brand()\n",
        "e_car.display_battery()\n",
        "\n"
      ],
      "metadata": {
        "colab": {
          "base_uri": "https://localhost:8080/"
        },
        "id": "appJm4xd5X-2",
        "outputId": "a26ca08e-e45a-4b7f-d3be-1511868a2bda"
      },
      "execution_count": null,
      "outputs": [
        {
          "output_type": "stream",
          "name": "stdout",
          "text": [
            "Vehicle Type: Four Wheeler\n",
            "Car Brand: Tesla\n",
            "Battery Capacity: 75 kWh\n"
          ]
        }
      ]
    },
    {
      "cell_type": "code",
      "source": [
        "# 4. Demonstrate polymorphism by creating a base class Bird with a method fly(). Create two derived classes\n",
        "# Sparrow and Penguin that override the fly() method.\n",
        "\n",
        "class Bird:\n",
        "    def fly(self):\n",
        "        print(\"Some birds can fly.\")\n",
        "\n",
        "class Sparrow(Bird):\n",
        "    def fly(self):\n",
        "        print(\"Sparrow flies high in the sky.\")\n",
        "\n",
        "class Penguin(Bird):\n",
        "    def fly(self):\n",
        "        print(\"Penguins cannot fly but they can swim.\")\n",
        "\n",
        "\n",
        "birds = [Sparrow(), Penguin()]\n",
        "\n",
        "for bird in birds:\n",
        "    bird.fly()\n"
      ],
      "metadata": {
        "colab": {
          "base_uri": "https://localhost:8080/"
        },
        "id": "9y__liHx5X8M",
        "outputId": "d298ca27-8e70-4c65-a3bc-4f741f49a53f"
      },
      "execution_count": null,
      "outputs": [
        {
          "output_type": "stream",
          "name": "stdout",
          "text": [
            "Sparrow flies high in the sky.\n",
            "Penguins cannot fly but they can swim.\n"
          ]
        }
      ]
    },
    {
      "cell_type": "code",
      "source": [
        "# 5. Write a program to demonstrate encapsulation by creating a class BankAccount with private attributes\n",
        "# balance and methods to deposit, withdraw, and check balance.\n",
        "\n",
        "class BankAccount:\n",
        "    def __init__(self, initial_balance=0):\n",
        "        self.__balance = initial_balance  # private attribute\n",
        "\n",
        "    def deposit(self, amount):\n",
        "        if amount > 0:\n",
        "            self.__balance += amount\n",
        "            print(f\"Deposited: {amount}\")\n",
        "        else:\n",
        "            print(\"Invalid deposit amount.\")\n",
        "\n",
        "    def withdraw(self, amount):\n",
        "        if 0 < amount <= self.__balance:\n",
        "            self.__balance -= amount\n",
        "            print(f\"Withdrawn: {amount}\")\n",
        "        else:\n",
        "            print(\"Insufficient balance or invalid amount.\")\n",
        "\n",
        "    def check_balance(self):\n",
        "        print(f\"Current Balance: {self.__balance}\")\n",
        "\n",
        "account = BankAccount(1000)\n",
        "account.check_balance()\n",
        "account.deposit(500)\n",
        "account.withdraw(300)\n",
        "account.check_balance()\n"
      ],
      "metadata": {
        "colab": {
          "base_uri": "https://localhost:8080/"
        },
        "id": "kx_-yYZb5X54",
        "outputId": "58b94744-ab40-47f3-a4bf-8f1da5bc8f8d"
      },
      "execution_count": null,
      "outputs": [
        {
          "output_type": "stream",
          "name": "stdout",
          "text": [
            "Current Balance: 1000\n",
            "Deposited: 500\n",
            "Withdrawn: 300\n",
            "Current Balance: 1200\n"
          ]
        }
      ]
    },
    {
      "cell_type": "code",
      "source": [
        "# 6. Demonstrate runtime polymorphism using a method play() in a base class Instrument. Derive classes Guitar\n",
        "# and Piano that implement their own version of play().\n",
        "\n",
        "class Instrument:\n",
        "    def play(self):\n",
        "        print(\"Playing an instrument.\")\n",
        "\n",
        "class Guitar(Instrument):\n",
        "    def play(self):\n",
        "        print(\"Strumming the guitar.\")\n",
        "\n",
        "class Piano(Instrument):\n",
        "    def play(self):\n",
        "        print(\"Playing the piano.\")\n",
        "\n",
        "instruments = [Guitar(), Piano()]\n",
        "\n",
        "for instrument in instruments:\n",
        "    instrument.play()\n"
      ],
      "metadata": {
        "colab": {
          "base_uri": "https://localhost:8080/"
        },
        "id": "lZozttWj5X3V",
        "outputId": "335005d4-19e9-4ec5-9aaf-719b6c1d2e3a"
      },
      "execution_count": null,
      "outputs": [
        {
          "output_type": "stream",
          "name": "stdout",
          "text": [
            "Strumming the guitar.\n",
            "Playing the piano.\n"
          ]
        }
      ]
    },
    {
      "cell_type": "code",
      "source": [
        "# 7. Create a class MathOperations with a class method add_numbers() to add two numbers and a static\n",
        "# method subtract_numbers() to subtract two numbers.\n",
        "\n",
        "class MathOperations:\n",
        "    @classmethod\n",
        "    def add_numbers(cls, a, b):\n",
        "        return a + b\n",
        "\n",
        "    @staticmethod\n",
        "    def subtract_numbers(a, b):\n",
        "        return a - b\n",
        "\n",
        "\n",
        "print(\"Addition:\", MathOperations.add_numbers(10, 5))\n",
        "print(\"Subtraction:\", MathOperations.subtract_numbers(10, 5))\n",
        "\n",
        "\n"
      ],
      "metadata": {
        "colab": {
          "base_uri": "https://localhost:8080/"
        },
        "id": "U-R2Gvrv5X1T",
        "outputId": "d48cb4de-1615-4135-b2ee-9028b1eef746"
      },
      "execution_count": null,
      "outputs": [
        {
          "output_type": "stream",
          "name": "stdout",
          "text": [
            "Addition: 15\n",
            "Subtraction: 5\n"
          ]
        }
      ]
    },
    {
      "cell_type": "code",
      "source": [
        "# 8. Implement a class Person with a class method to count the total number of persons created.\n",
        "\n",
        "class Person:\n",
        "    count = 0\n",
        "\n",
        "    def __init__(self, name):\n",
        "        self.name = name\n",
        "        Person.count += 1\n",
        "\n",
        "    @classmethod\n",
        "    def total_persons(cls):\n",
        "        return cls.count\n",
        "\n",
        "p1 = Person(\"Panchanand\")\n",
        "p2 = Person(\"Rana\")\n",
        "p3 = Person(\"Siddharth\")\n",
        "\n",
        "print(\"Total persons created:\", Person.total_persons())\n"
      ],
      "metadata": {
        "colab": {
          "base_uri": "https://localhost:8080/"
        },
        "id": "1xWMQsjq5XyV",
        "outputId": "53dde08b-840c-44c1-a255-4b4b5e9bf500"
      },
      "execution_count": null,
      "outputs": [
        {
          "output_type": "stream",
          "name": "stdout",
          "text": [
            "Total persons created: 3\n"
          ]
        }
      ]
    },
    {
      "cell_type": "code",
      "source": [
        "# 9. Write a class Fraction with attributes numerator and denominator. Override the str method to display the\n",
        "# fraction as \"numerator/denominator\".\n",
        "\n",
        "class Fraction:\n",
        "    def __init__(self, numerator, denominator):\n",
        "        self.numerator = numerator\n",
        "        self.denominator = denominator\n",
        "\n",
        "    def __str__(self):\n",
        "        return f\"{self.numerator}/{self.denominator}\"\n",
        "\n",
        "f = Fraction(3, 4)\n",
        "print(\"Fraction:\", f)\n"
      ],
      "metadata": {
        "colab": {
          "base_uri": "https://localhost:8080/"
        },
        "id": "vEium2O_5XwI",
        "outputId": "b8867f88-2432-4d8e-d80f-44fd4c3f9141"
      },
      "execution_count": null,
      "outputs": [
        {
          "output_type": "stream",
          "name": "stdout",
          "text": [
            "Fraction: 3/4\n"
          ]
        }
      ]
    },
    {
      "cell_type": "code",
      "source": [
        "# 10. Demonstrate operator overloading by creating a class Vector and overriding the add method to add two vectors.\n",
        "\n",
        "class Vector:\n",
        "    def __init__(self, x, y):\n",
        "        self.x = x\n",
        "        self.y = y\n",
        "\n",
        "    def __add__(self, other):\n",
        "        return Vector(self.x + other.x, self.y + other.y)\n",
        "\n",
        "    def __str__(self):\n",
        "        return f\"Vector({self.x}, {self.y})\"\n",
        "\n",
        "v1 = Vector(2, 3)\n",
        "v2 = Vector(4, 5)\n",
        "v3 = v1 + v2\n",
        "\n",
        "print(\"Resultant Vector:\", v3)\n"
      ],
      "metadata": {
        "colab": {
          "base_uri": "https://localhost:8080/"
        },
        "id": "XgtbwuB-5XtW",
        "outputId": "09e6a218-ff0d-4514-cd5e-5decd48d4530"
      },
      "execution_count": null,
      "outputs": [
        {
          "output_type": "stream",
          "name": "stdout",
          "text": [
            "Resultant Vector: Vector(6, 8)\n"
          ]
        }
      ]
    },
    {
      "cell_type": "code",
      "source": [
        "# 11. Create a class Person with attributes name and age. Add a method greet() that prints \"Hello, my name is\n",
        "# {name} and I am {age} years old.\"\n",
        "\n",
        "class Person:\n",
        "    def __init__(self, name, age):\n",
        "        self.name = name\n",
        "        self.age = age\n",
        "\n",
        "    def greet(self):\n",
        "        print(f\"Hello, my name is {self.name} and I am {self.age} years old.\")\n",
        "\n",
        "p = Person(\"Panchanand\", 30)\n",
        "p.greet()\n"
      ],
      "metadata": {
        "colab": {
          "base_uri": "https://localhost:8080/"
        },
        "id": "bNU-YaSG5XrA",
        "outputId": "cd2b2885-9648-471f-a22f-509169892f0d"
      },
      "execution_count": null,
      "outputs": [
        {
          "output_type": "stream",
          "name": "stdout",
          "text": [
            "Hello, my name is Panchanand and I am 30 years old.\n"
          ]
        }
      ]
    },
    {
      "cell_type": "code",
      "source": [
        "# 12. Implement a class Student with attributes name and grades. Create a method average_grade() to compute\n",
        "# the average of the grades.\n",
        "\n",
        "class Student:\n",
        "    def __init__(self, name, grades):\n",
        "        self.name = name\n",
        "        self.grades = grades\n",
        "\n",
        "    def average_grade(self):\n",
        "        if not self.grades:\n",
        "            return 0\n",
        "        return sum(self.grades) / len(self.grades)\n",
        "\n",
        "s = Student(\"Panchanand\", [85, 90, 78, 92])\n",
        "print(f\"{s.name}'s average grade is:\", s.average_grade())\n"
      ],
      "metadata": {
        "colab": {
          "base_uri": "https://localhost:8080/"
        },
        "id": "LW3ETCeX5Xoe",
        "outputId": "06011d22-42d8-4249-ce07-f6835d2af20b"
      },
      "execution_count": null,
      "outputs": [
        {
          "output_type": "stream",
          "name": "stdout",
          "text": [
            "Panchanand's average grade is: 86.25\n"
          ]
        }
      ]
    },
    {
      "cell_type": "code",
      "source": [
        "# 13. Create a class Rectangle with methods set_dimensions() to set the dimensions and area() to calculate the area.\n",
        "\n",
        "class Rectangle:\n",
        "    def __init__(self):\n",
        "        self.length = 0\n",
        "        self.width = 0\n",
        "\n",
        "    def set_dimensions(self, length, width):\n",
        "        self.length = length\n",
        "        self.width = width\n",
        "\n",
        "    def area(self):\n",
        "        return self.length * self.width\n",
        "\n",
        "rect = Rectangle()\n",
        "rect.set_dimensions(5, 3)\n",
        "print(\"Area of rectangle:\", rect.area())\n"
      ],
      "metadata": {
        "colab": {
          "base_uri": "https://localhost:8080/"
        },
        "id": "7CVVEH6G5Xme",
        "outputId": "191ca68e-3771-41ba-a1ea-16a0a81ac41a"
      },
      "execution_count": null,
      "outputs": [
        {
          "output_type": "stream",
          "name": "stdout",
          "text": [
            "Area of rectangle: 15\n"
          ]
        }
      ]
    },
    {
      "cell_type": "code",
      "source": [
        "# 14. Create a class Employee with a method calculate_salary() that computes the salary based on hours worked\n",
        "# and hourly rate. Create a derived class Manager that adds a bonus to the salary.\n",
        "\n",
        "class Employee:\n",
        "    def __init__(self, name, hours_worked, hourly_rate):\n",
        "        self.name = name\n",
        "        self.hours_worked = hours_worked\n",
        "        self.hourly_rate = hourly_rate\n",
        "\n",
        "    def calculate_salary(self):\n",
        "        return self.hours_worked * self.hourly_rate\n",
        "\n",
        "\n",
        "class Manager(Employee):\n",
        "    def __init__(self, name, hours_worked, hourly_rate, bonus):\n",
        "        super().__init__(name, hours_worked, hourly_rate)\n",
        "        self.bonus = bonus\n",
        "\n",
        "    def calculate_salary(self):\n",
        "        return super().calculate_salary() + self.bonus\n",
        "\n",
        "emp = Employee(\"Panchanand\", 40, 20)\n",
        "mgr = Manager(\"Rana\", 45, 30, 500)\n",
        "\n",
        "print(f\"{emp.name}'s salary:\", emp.calculate_salary())\n",
        "print(f\"{mgr.name}'s salary with bonus:\", mgr.calculate_salary())\n"
      ],
      "metadata": {
        "colab": {
          "base_uri": "https://localhost:8080/"
        },
        "id": "qapeG8sh5XkQ",
        "outputId": "b408f8bc-3ba4-4ad9-c810-db2a4a3513e7"
      },
      "execution_count": null,
      "outputs": [
        {
          "output_type": "stream",
          "name": "stdout",
          "text": [
            "Panchanand's salary: 800\n",
            "Rana's salary with bonus: 1850\n"
          ]
        }
      ]
    },
    {
      "cell_type": "code",
      "source": [
        "# 15. Create a class Product with attributes name, price, and quantity. Implement a method total_price() that\n",
        "# calculates the total price of the product.\n",
        "\n",
        "class Product:\n",
        "    def __init__(self, name, price, quantity):\n",
        "        self.name = name\n",
        "        self.price = price\n",
        "        self.quantity = quantity\n",
        "\n",
        "    def total_price(self):\n",
        "        return self.price * self.quantity\n",
        "\n",
        "\n",
        "item = Product(\"Laptop\", 750, 2)\n",
        "print(f\"Total price of {item.name}s:\", item.total_price())\n"
      ],
      "metadata": {
        "colab": {
          "base_uri": "https://localhost:8080/"
        },
        "id": "8erj5S9V5XhE",
        "outputId": "63bf324b-22f1-4d92-a481-6389a88778fc"
      },
      "execution_count": null,
      "outputs": [
        {
          "output_type": "stream",
          "name": "stdout",
          "text": [
            "Total price of Laptops: 1500\n"
          ]
        }
      ]
    },
    {
      "cell_type": "code",
      "source": [
        "# 16. Create a class Animal with an abstract method sound(). Create two derived classes Cow and Sheep that\n",
        "# implement the sound() method.\n",
        "\n",
        "from abc import ABC, abstractmethod\n",
        "\n",
        "class Animal(ABC):\n",
        "    @abstractmethod\n",
        "    def sound(self):\n",
        "        pass\n",
        "\n",
        "class Cow(Animal):\n",
        "    def sound(self):\n",
        "        return \"Moo\"\n",
        "\n",
        "class Sheep(Animal):\n",
        "    def sound(self):\n",
        "        return \"Baa\"\n",
        "\n",
        "cow = Cow()\n",
        "sheep = Sheep()\n",
        "\n",
        "print(\"Cow sound:\", cow.sound())\n",
        "print(\"Sheep sound:\", sheep.sound())\n",
        "\n"
      ],
      "metadata": {
        "colab": {
          "base_uri": "https://localhost:8080/"
        },
        "id": "6kfsITGA5Xep",
        "outputId": "db4e01c2-09a1-4455-be88-67b3aafacf65"
      },
      "execution_count": null,
      "outputs": [
        {
          "output_type": "stream",
          "name": "stdout",
          "text": [
            "Cow sound: Moo\n",
            "Sheep sound: Baa\n"
          ]
        }
      ]
    },
    {
      "cell_type": "code",
      "source": [
        "# 17. Create a class Book with attributes title, author, and year_published. Add a method get_book_info() that\n",
        "# returns a formatted string with the book's details.\n",
        "\n",
        "class Book:\n",
        "    def __init__(self, title, author, year_published):\n",
        "        self.title = title\n",
        "        self.author = author\n",
        "        self.year_published = year_published\n",
        "\n",
        "    def get_book_info(self):\n",
        "        return f\"'{self.title}' by {self.author}, published in {self.year_published}\"\n",
        "\n",
        "book = Book(\"The Trial\", \"Franz Kafka\", 1925)\n",
        "print(book.get_book_info())\n"
      ],
      "metadata": {
        "colab": {
          "base_uri": "https://localhost:8080/"
        },
        "id": "Thh7Kbjq5Xbx",
        "outputId": "7b4d61c2-17a4-42ee-824b-0b69a27d9fef"
      },
      "execution_count": null,
      "outputs": [
        {
          "output_type": "stream",
          "name": "stdout",
          "text": [
            "'The Trial' by Franz Kafka, published in 1925\n"
          ]
        }
      ]
    },
    {
      "cell_type": "code",
      "source": [
        "# 18. Create a class House with attributes address and price. Create a derived class Mansion that adds an\n",
        "# attribute number_of_rooms.\n",
        "\n",
        "class House:\n",
        "    def __init__(self, address, price):\n",
        "        self.address = address\n",
        "        self.price = price\n",
        "\n",
        "class Mansion(House):\n",
        "    def __init__(self, address, price, number_of_rooms):\n",
        "        super().__init__(address, price)\n",
        "        self.number_of_rooms = number_of_rooms\n",
        "\n",
        "    def get_info(self):\n",
        "        return f\"Mansion at {self.address}, Price: ${self.price}, Rooms: {self.number_of_rooms}\"\n",
        "\n",
        "mansion = Mansion(\"123 Kolkata\", 5000000, 12)\n",
        "print(mansion.get_info())\n"
      ],
      "metadata": {
        "colab": {
          "base_uri": "https://localhost:8080/"
        },
        "id": "7wTyDJgT5XZW",
        "outputId": "c975d2fd-ac6d-4dd7-fbbf-ff86fd8f73b3"
      },
      "execution_count": null,
      "outputs": [
        {
          "output_type": "stream",
          "name": "stdout",
          "text": [
            "Mansion at 123 Kolkata, Price: $5000000, Rooms: 12\n"
          ]
        }
      ]
    }
  ]
}